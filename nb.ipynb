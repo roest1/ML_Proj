{
 "cells": [
  {
   "cell_type": "code",
   "execution_count": 6,
   "metadata": {},
   "outputs": [
    {
     "name": "stderr",
     "output_type": "stream",
     "text": [
      "  % Total    % Received % Xferd  Average Speed   Time    Time     Time  Current\n",
      "                                 Dload  Upload   Total   Spent    Left  Speed\n",
      "100 28079  100 28079    0     0  38191      0 --:--:-- --:--:-- --:--:-- 38359\n"
     ]
    }
   ],
   "source": [
    "import os\n",
    "import requests\n",
    "import pandas as pd\n",
    "\n",
    "# Specify the URL and filename\n",
    "url = \"https://datasets-server.huggingface.co/rows?dataset=pmoe7%2FSP_500_Stocks_Data-ratios_news_price_10_yrs&config=default&split=train&offset=0&length=100\"\n",
    "filename = \"SP_500_Stocks_Data.csv\"\n",
    "\n",
    "# Check if the CSV file already exists\n",
    "if not os.path.exists(filename):\n",
    "    # If it doesn't exist, fetch the data\n",
    "    response = requests.get(url)\n",
    "\n",
    "    # Ensure the request was successful\n",
    "    if response.status_code == 200:\n",
    "        # Parse the response JSON\n",
    "        data = response.json()\n",
    "\n",
    "        # Assuming the data is structured in a way that pandas can process\n",
    "        # Convert the data into a pandas DataFrame\n",
    "        # Modify this part to suit the actual structure of the response\n",
    "        df = pd.DataFrame(data) \n",
    "\n",
    "        # Save the DataFrame as a CSV file\n",
    "        df.to_csv(filename, index=False)\n",
    "        print(f\"Data saved to {filename}.\")\n",
    "    else:\n",
    "        print(f\"Failed to fetch data: {response.status_code}\")\n",
    "else:\n",
    "    print(f\"{filename} already exists.\")\n",
    "\n",
    "# Load the CSV into a pandas DataFrame\n",
    "df = pd.read_csv(filename)\n",
    "print(df.head())  # Display the first few rows"
   ]
  },
  {
   "cell_type": "code",
   "execution_count": 1,
   "metadata": {},
   "outputs": [
    {
     "name": "stdout",
     "output_type": "stream",
     "text": [
      "[*********************100%%**********************]  1 of 1 completed\n"
     ]
    }
   ],
   "source": [
    "import pandas as pd\n",
    "from ClaculateTechnicals import TechnicalIndicators\n",
    "import yfinance as yf \n",
    "\n",
    "symbol = \"NVDA\"\n",
    "\n",
    "data = yf.download(symbol)\n",
    "if data.empty:\n",
    "    raise ValueError(f\"No data found for symbol: {symbol}\")\n",
    "\n",
    "technical_indicators = TechnicalIndicators(data)\n",
    "all_signals = technical_indicators.generate_all_signals()"
   ]
  },
  {
   "cell_type": "code",
   "execution_count": 2,
   "metadata": {},
   "outputs": [
    {
     "data": {
      "text/plain": [
       "Index(['Open', 'High', 'Low', 'Close', 'Adj Close', 'Volume', 'HA close',\n",
       "       'HA open', 'HA high', 'HA low', 'HA signals', 'trend', 'sar', 'ep',\n",
       "       'af', 'sar signals', 'macd short ma', 'macd long ma', 'macd ma1',\n",
       "       'macd ma2', 'macd divergence', 'macd signals', 'gd ma_short',\n",
       "       'gd ma_long', 'golden death cross signal', 'golden_cross_points',\n",
       "       'death_cross_points', 'rsi oversold', 'rsi overbought', 'rsi',\n",
       "       'rsi signals', '%K', '%D', 'stochastic signals',\n",
       "       'stochastic oscillator overbought', 'stochastic oscillator oversold',\n",
       "       'roc', 'roc signals', 'roc overbought', 'roc oversold', 'Williams %R',\n",
       "       'williams_r signals', 'Williams %R oversold', 'Williams %R overbought',\n",
       "       'CCI', 'cci signals', 'CCI oversold', 'CCI overbought',\n",
       "       'bollinger bands mid band', 'bollinger bands upper band',\n",
       "       'bollinger bands lower band', 'bollinger bands signals',\n",
       "       'historical_volatility', 'hv signals', 'hv threshold',\n",
       "       'standard_deviation', 'sd threshold', 'sd signals', 'vol_osc',\n",
       "       'vol_osc_signals', 'VROC', 'VROC signals', 'MFI', 'MFI signals', 'ATR'],\n",
       "      dtype='object')"
      ]
     },
     "execution_count": 2,
     "metadata": {},
     "output_type": "execute_result"
    }
   ],
   "source": [
    "all_signals.columns"
   ]
  },
  {
   "cell_type": "code",
   "execution_count": 3,
   "metadata": {},
   "outputs": [
    {
     "name": "stdout",
     "output_type": "stream",
     "text": [
      "               GDP  Inflation Rate  Unemployment Rate\n",
      "date                                                 \n",
      "2023  2.736094e+13      139.735794              3.625\n",
      "2022  2.574411e+13      134.211206              3.650\n",
      "2021  2.359403e+13      124.266414              5.349\n",
      "2020  2.132295e+13      118.690502              8.055\n",
      "2019  2.152140e+13      117.244195              3.669\n",
      "...            ...             ...                ...\n",
      "1964  6.841446e+11       14.224207                NaN\n",
      "1963  6.370586e+11       14.044590                NaN\n",
      "1962  6.036394e+11       13.872615                NaN\n",
      "1961  5.619403e+11       13.708284                NaN\n",
      "1960  5.419886e+11       13.563061                NaN\n",
      "\n",
      "[64 rows x 3 columns]\n"
     ]
    }
   ],
   "source": [
    "import wbdata\n",
    "\n",
    "'''\n",
    " World Bank Open Data\n",
    "Data Available: Macroeconomic data such as GDP Growth, Inflation Rate, Unemployment Rate, Interest Rates, Exchange Rates, etc.\n",
    "'''\n",
    "\n",
    "indicators = {\n",
    "    'NY.GDP.MKTP.CD': 'GDP',  # GDP (current US$)\n",
    "    'FP.CPI.TOTL': 'Inflation Rate',  # Inflation, consumer prices\n",
    "    # Unemployment rate (% of total labor force)\n",
    "    'SL.UEM.TOTL.ZS': 'Unemployment Rate'\n",
    "}\n",
    "\n",
    "data = wbdata.get_dataframe(indicators, country='US')\n",
    "print(data)"
   ]
  },
  {
   "cell_type": "code",
   "execution_count": null,
   "metadata": {},
   "outputs": [],
   "source": [
    "from sec_edgar_downloader import Downloader\n",
    "\n",
    "'''\n",
    "SEC EDGAR (U.S. Securities and Exchange Commission)\n",
    "Data Available: Company financial statements, earnings reports, and corporate events (Earnings Date, Dividend Ex-Date, Stock Splits).\n",
    "'''\n",
    "\n",
    "# Initialize a downloader instance. Download filings to the current\n",
    "# working directory. Must declare company name and email address\n",
    "# to form a user-agent string that complies with the SEC Edgar's\n",
    "# programmatic downloading fair access policy.\n",
    "# More info: https://www.sec.gov/os/webmaster-faq#code-support\n",
    "# Company name and email are used to form a user-agent of the form:\n",
    "# User-Agent: <Company Name> <Email Address>\n",
    "dl = Downloader(\"MyCompanyName\", \"my.email@domain.com\")  # Keep this\n",
    "\n",
    "# Get all 8-K filings for Apple (ticker: AAPL)\n",
    "dl.get(\"8-K\", \"AAPL\")\n",
    "\n",
    "# # Get all 8-K filings for Apple, including filing amends (8-K/A)\n",
    "# dl.get(\"8-K\", \"AAPL\", include_amends=True)\n",
    "\n",
    "# # Get all 8-K filings for Apple after January 1, 2017 and before March 25, 2017\n",
    "# # Note: after and before strings must be in the form \"YYYY-MM-DD\"\n",
    "# dl.get(\"8-K\", \"AAPL\", after=\"2017-01-01\", before=\"2017-03-25\")\n",
    "\n",
    "# # Get the five most recent 8-K filings for Apple\n",
    "# dl.get(\"8-K\", \"AAPL\", limit=5)\n",
    "\n",
    "# # Get all 10-K filings for Microsoft\n",
    "# dl.get(\"10-K\", \"MSFT\")\n",
    "\n",
    "# # Get the latest 10-K filing for Microsoft\n",
    "# dl.get(\"10-K\", \"MSFT\", limit=1)\n",
    "\n",
    "# # Get all 10-Q filings for Visa\n",
    "# dl.get(\"10-Q\", \"V\")\n",
    "\n",
    "# # Get all 13F-NT filings for the Vanguard Group\n",
    "# dl.get(\"13F-NT\", \"0000102909\")\n",
    "\n",
    "# # Get all 13F-HR filings for the Vanguard Group\n",
    "# dl.get(\"13F-HR\", \"0000102909\")\n",
    "\n",
    "# # Get all SC 13G filings for Apple\n",
    "# dl.get(\"SC 13G\", \"AAPL\")\n",
    "\n",
    "# # Get all SD filings for Apple\n",
    "# dl.get(\"SD\", \"AAPL\")\n",
    "\n",
    "print(f\"Files downloaded to {dl.download_folder}\")"
   ]
  },
  {
   "cell_type": "code",
   "execution_count": null,
   "metadata": {},
   "outputs": [],
   "source": [
    "from sec_edgar_downloader import Downloader\n",
    "\n",
    "# Download filings to the current working directory\n",
    "dl = Downloader(\"MyCompanyName\", \"my.email@domain.com\",\n",
    "                \"/path/to/save/location\")\n",
    "\n",
    "# Get all 10-K filings for Microsoft without the filing details\n",
    "dl.get(\"10-K\", \"MSFT\", download_details=False)\n",
    "\n",
    "# Get the latest supported filings, if available, for Apple\n",
    "for filing_type in dl.supported_filings:\n",
    "    dl.get(filing_type, \"AAPL\", limit=1)\n",
    "\n",
    "# Get the latest supported filings, if available, for a\n",
    "# specified list of tickers and CIKs\n",
    "equity_ids = [\"AAPL\", \"MSFT\", \"0000102909\", \"V\", \"FB\"]\n",
    "for equity_id in equity_ids:\n",
    "    for filing_type in dl.supported_filings:\n",
    "        dl.get(filing_type, equity_id, limit=1)"
   ]
  },
  {
   "cell_type": "code",
   "execution_count": null,
   "metadata": {},
   "outputs": [],
   "source": [
    "import requests\n",
    "\n",
    "'''\n",
    "FRED (Federal Reserve Economic Data) API\n",
    "Data Available: U.S. macroeconomic data including interest rates, inflation, unemployment, consumer confidence, etc.\n",
    "'''\n",
    "\n",
    "api_key = 'YOUR_API_KEY'\n",
    "url = f\"https://api.stlouisfed.org/fred/series/observations?series_id=UNRATE&api_key={api_key}&file_type=json\"\n",
    "\n",
    "response = requests.get(url)\n",
    "data = response.json()\n",
    "print(data['observations'])"
   ]
  },
  {
   "cell_type": "code",
   "execution_count": null,
   "metadata": {},
   "outputs": [],
   "source": [
    "'''\n",
    "Macrotrends\n",
    "Data Available: Financial ratios (P/E, P/B, Debt-to-Equity), EBITDA, ROA, ROE, Free Cash Flow, Operating Margin, etc.\n",
    "https://www.macrotrends.net/\n",
    "'''"
   ]
  }
 ],
 "metadata": {
  "kernelspec": {
   "display_name": "stockPredictor",
   "language": "python",
   "name": "python3"
  },
  "language_info": {
   "codemirror_mode": {
    "name": "ipython",
    "version": 3
   },
   "file_extension": ".py",
   "mimetype": "text/x-python",
   "name": "python",
   "nbconvert_exporter": "python",
   "pygments_lexer": "ipython3",
   "version": "3.10.8"
  }
 },
 "nbformat": 4,
 "nbformat_minor": 2
}
